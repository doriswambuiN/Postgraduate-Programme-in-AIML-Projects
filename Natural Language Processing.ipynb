{
 "cells": [
  {
   "cell_type": "code",
   "execution_count": 1,
   "metadata": {},
   "outputs": [],
   "source": [
    "import numpy as np\n",
    "import pandas as pd\n",
    "import os\n",
    "import seaborn as sns\n",
    "import matplotlib.pyplot as plt\n",
    "import re"
   ]
  },
  {
   "cell_type": "code",
   "execution_count": 2,
   "metadata": {},
   "outputs": [],
   "source": [
    "tweets = pd.read_csv(r'C:\\Users\\Dorris\\Downloads\\Tweets.csv')"
   ]
  },
  {
   "cell_type": "code",
   "execution_count": 3,
   "metadata": {},
   "outputs": [],
   "source": [
    "tweets.drop(tweets.columns.difference(['text','airline']), axis = 1,inplace = True)"
   ]
  },
  {
   "cell_type": "code",
   "execution_count": 4,
   "metadata": {},
   "outputs": [
    {
     "data": {
      "text/plain": [
       "(14640, 2)"
      ]
     },
     "execution_count": 4,
     "metadata": {},
     "output_type": "execute_result"
    }
   ],
   "source": [
    "tweets.shape"
   ]
  },
  {
   "cell_type": "code",
   "execution_count": 5,
   "metadata": {},
   "outputs": [
    {
     "data": {
      "text/html": [
       "<div>\n",
       "<style scoped>\n",
       "    .dataframe tbody tr th:only-of-type {\n",
       "        vertical-align: middle;\n",
       "    }\n",
       "\n",
       "    .dataframe tbody tr th {\n",
       "        vertical-align: top;\n",
       "    }\n",
       "\n",
       "    .dataframe thead th {\n",
       "        text-align: right;\n",
       "    }\n",
       "</style>\n",
       "<table border=\"1\" class=\"dataframe\">\n",
       "  <thead>\n",
       "    <tr style=\"text-align: right;\">\n",
       "      <th></th>\n",
       "      <th>airline</th>\n",
       "      <th>text</th>\n",
       "    </tr>\n",
       "  </thead>\n",
       "  <tbody>\n",
       "    <tr>\n",
       "      <th>0</th>\n",
       "      <td>Virgin America</td>\n",
       "      <td>@VirginAmerica What @dhepburn said.</td>\n",
       "    </tr>\n",
       "    <tr>\n",
       "      <th>1</th>\n",
       "      <td>Virgin America</td>\n",
       "      <td>@VirginAmerica plus you've added commercials t...</td>\n",
       "    </tr>\n",
       "    <tr>\n",
       "      <th>2</th>\n",
       "      <td>Virgin America</td>\n",
       "      <td>@VirginAmerica I didn't today... Must mean I n...</td>\n",
       "    </tr>\n",
       "    <tr>\n",
       "      <th>3</th>\n",
       "      <td>Virgin America</td>\n",
       "      <td>@VirginAmerica it's really aggressive to blast...</td>\n",
       "    </tr>\n",
       "    <tr>\n",
       "      <th>4</th>\n",
       "      <td>Virgin America</td>\n",
       "      <td>@VirginAmerica and it's a really big bad thing...</td>\n",
       "    </tr>\n",
       "  </tbody>\n",
       "</table>\n",
       "</div>"
      ],
      "text/plain": [
       "          airline                                               text\n",
       "0  Virgin America                @VirginAmerica What @dhepburn said.\n",
       "1  Virgin America  @VirginAmerica plus you've added commercials t...\n",
       "2  Virgin America  @VirginAmerica I didn't today... Must mean I n...\n",
       "3  Virgin America  @VirginAmerica it's really aggressive to blast...\n",
       "4  Virgin America  @VirginAmerica and it's a really big bad thing..."
      ]
     },
     "execution_count": 5,
     "metadata": {},
     "output_type": "execute_result"
    }
   ],
   "source": [
    "tweets.head(5)"
   ]
  },
  {
   "cell_type": "code",
   "execution_count": 6,
   "metadata": {},
   "outputs": [],
   "source": [
    "#removing HTML Tags\n",
    "TAG_RE = re.compile(r'<[^>]+>')\n",
    "def remove_tags(tweets):\n",
    "    return TAG_RE.sub('',tweets)"
   ]
  },
  {
   "cell_type": "code",
   "execution_count": 7,
   "metadata": {},
   "outputs": [
    {
     "data": {
      "text/html": [
       "<div>\n",
       "<style scoped>\n",
       "    .dataframe tbody tr th:only-of-type {\n",
       "        vertical-align: middle;\n",
       "    }\n",
       "\n",
       "    .dataframe tbody tr th {\n",
       "        vertical-align: top;\n",
       "    }\n",
       "\n",
       "    .dataframe thead th {\n",
       "        text-align: right;\n",
       "    }\n",
       "</style>\n",
       "<table border=\"1\" class=\"dataframe\">\n",
       "  <thead>\n",
       "    <tr style=\"text-align: right;\">\n",
       "      <th></th>\n",
       "      <th>airline</th>\n",
       "      <th>text</th>\n",
       "    </tr>\n",
       "  </thead>\n",
       "  <tbody>\n",
       "    <tr>\n",
       "      <th>0</th>\n",
       "      <td>Virgin America</td>\n",
       "      <td>@VirginAmerica What @dhepburn said.</td>\n",
       "    </tr>\n",
       "    <tr>\n",
       "      <th>1</th>\n",
       "      <td>Virgin America</td>\n",
       "      <td>@VirginAmerica plus you've added commercials t...</td>\n",
       "    </tr>\n",
       "    <tr>\n",
       "      <th>2</th>\n",
       "      <td>Virgin America</td>\n",
       "      <td>@VirginAmerica I didn't today... Must mean I n...</td>\n",
       "    </tr>\n",
       "    <tr>\n",
       "      <th>3</th>\n",
       "      <td>Virgin America</td>\n",
       "      <td>@VirginAmerica it's really aggressive to blast...</td>\n",
       "    </tr>\n",
       "    <tr>\n",
       "      <th>4</th>\n",
       "      <td>Virgin America</td>\n",
       "      <td>@VirginAmerica and it's a really big bad thing...</td>\n",
       "    </tr>\n",
       "  </tbody>\n",
       "</table>\n",
       "</div>"
      ],
      "text/plain": [
       "          airline                                               text\n",
       "0  Virgin America                @VirginAmerica What @dhepburn said.\n",
       "1  Virgin America  @VirginAmerica plus you've added commercials t...\n",
       "2  Virgin America  @VirginAmerica I didn't today... Must mean I n...\n",
       "3  Virgin America  @VirginAmerica it's really aggressive to blast...\n",
       "4  Virgin America  @VirginAmerica and it's a really big bad thing..."
      ]
     },
     "execution_count": 7,
     "metadata": {},
     "output_type": "execute_result"
    }
   ],
   "source": [
    "tweets.head(5)"
   ]
  },
  {
   "cell_type": "code",
   "execution_count": 8,
   "metadata": {},
   "outputs": [
    {
     "name": "stdout",
     "output_type": "stream",
     "text": [
      "['airline', 'text', '0', 'Virgin', 'America', '@VirginAmerica', 'What', '@dhepburn', 'said.', '1', 'Virgin', 'America', '@VirginAmerica', 'plus', 'you', \"'\", 've', 'added', 'commercials', 't', '...', '2', 'Virgin', 'America', '@VirginAmerica', 'I', 'didn', \"'\", 't', 'today', '...', 'Must', 'mean', 'I', 'n', '...', '3', 'Virgin', 'America', '@VirginAmerica', 'it', \"'\", 's', 'really', 'aggressive', 'to', 'blast', '...', '4', 'Virgin', 'America', '@VirginAmerica', 'and', 'it', \"'\", 's', 'a', 'really', 'big', 'bad', 'thing', '...', '...', '...', '...', '14635', 'American', '@AmericanAir', 'thank', 'you', 'we', 'got', 'on', 'a', 'different', 'f', '...', '14636', 'American', '@AmericanAir', 'leaving', 'over', '20', 'minutes', 'Late', 'Flig', '...', '14637', 'American', '@AmericanAir', 'Please', 'bring', 'American', 'Airlines', 'to', '...', '14638', 'American', '@AmericanAir', 'you', 'have', 'my', 'money', ',', 'you', 'change', 'my', '...', '14639', 'American', '@AmericanAir', 'we', 'have', '8', 'ppl', 'so', 'we', 'need', '2', 'know', 'h', '...', '[', '14640', 'rows', 'x', '2', 'columns', ']']\n"
     ]
    }
   ],
   "source": [
    "#tokenization\n",
    "import nltk\n",
    "from nltk.tokenize.toktok import ToktokTokenizer\n",
    "tokenizer = ToktokTokenizer()\n",
    "tokens = tokenizer.tokenize(tweets)\n",
    "print(tokens)"
   ]
  },
  {
   "cell_type": "code",
   "execution_count": 9,
   "metadata": {},
   "outputs": [
    {
     "name": "stdout",
     "output_type": "stream",
     "text": [
      "              airline                                               text\n",
      "0      Virgin America                @VirginAmerica What @dhepburn said.\n",
      "1      Virgin America  @VirginAmerica plus you've added commercials t...\n",
      "2      Virgin America  @VirginAmerica I didn't today... Must mean I n...\n",
      "3      Virgin America  @VirginAmerica it's really aggressive to blast...\n",
      "4      Virgin America  @VirginAmerica and it's a really big bad thing...\n",
      "...               ...                                                ...\n",
      "14635        American  @AmericanAir thank you we got on a different f...\n",
      "14636        American  @AmericanAir leaving over  minutes Late Flight...\n",
      "14637        American  @AmericanAir Please bring American Airlines to...\n",
      "14638        American  @AmericanAir you have my money, you change my ...\n",
      "14639        American  @AmericanAir we have  ppl so we need  know how...\n",
      "\n",
      "[14640 rows x 2 columns]\n"
     ]
    }
   ],
   "source": [
    "#removing numbers\n",
    "tweets.replace('\\d+', '', regex=True , inplace=True)\n",
    "print(tweets)"
   ]
  },
  {
   "cell_type": "code",
   "execution_count": 10,
   "metadata": {},
   "outputs": [],
   "source": [
    "#Removing special characters and punctuations\n",
    "df = pd.DataFrame(tweets)\n",
    "spec_chars = [\"!\",'\"',\"#\",\"%\",\"&\",\"'\",\"(\",\")\",\"*\",\"+\",\",\",\"-\",\".\",\"/\",\":\",\";\",\"<\",\"=\",\">\",\"?\",\"@\",\"[\",\"\\\\\",\"]\",\"^\",\"_\",\"{\",\"}\",\"|\"]\n",
    "\n",
    "for char in spec_chars:\n",
    "    df['text'] = df['text'].str.replace(char,' ')"
   ]
  },
  {
   "cell_type": "code",
   "execution_count": 11,
   "metadata": {},
   "outputs": [
    {
     "data": {
      "text/html": [
       "<div>\n",
       "<style scoped>\n",
       "    .dataframe tbody tr th:only-of-type {\n",
       "        vertical-align: middle;\n",
       "    }\n",
       "\n",
       "    .dataframe tbody tr th {\n",
       "        vertical-align: top;\n",
       "    }\n",
       "\n",
       "    .dataframe thead th {\n",
       "        text-align: right;\n",
       "    }\n",
       "</style>\n",
       "<table border=\"1\" class=\"dataframe\">\n",
       "  <thead>\n",
       "    <tr style=\"text-align: right;\">\n",
       "      <th></th>\n",
       "      <th>airline</th>\n",
       "      <th>text</th>\n",
       "    </tr>\n",
       "  </thead>\n",
       "  <tbody>\n",
       "    <tr>\n",
       "      <th>0</th>\n",
       "      <td>Virgin America</td>\n",
       "      <td>VirginAmerica What  dhepburn said</td>\n",
       "    </tr>\n",
       "    <tr>\n",
       "      <th>1</th>\n",
       "      <td>Virgin America</td>\n",
       "      <td>VirginAmerica plus you ve added commercials t...</td>\n",
       "    </tr>\n",
       "    <tr>\n",
       "      <th>2</th>\n",
       "      <td>Virgin America</td>\n",
       "      <td>VirginAmerica I didn t today    Must mean I n...</td>\n",
       "    </tr>\n",
       "    <tr>\n",
       "      <th>3</th>\n",
       "      <td>Virgin America</td>\n",
       "      <td>VirginAmerica it s really aggressive to blast...</td>\n",
       "    </tr>\n",
       "    <tr>\n",
       "      <th>4</th>\n",
       "      <td>Virgin America</td>\n",
       "      <td>VirginAmerica and it s a really big bad thing...</td>\n",
       "    </tr>\n",
       "  </tbody>\n",
       "</table>\n",
       "</div>"
      ],
      "text/plain": [
       "          airline                                               text\n",
       "0  Virgin America                 VirginAmerica What  dhepburn said \n",
       "1  Virgin America   VirginAmerica plus you ve added commercials t...\n",
       "2  Virgin America   VirginAmerica I didn t today    Must mean I n...\n",
       "3  Virgin America   VirginAmerica it s really aggressive to blast...\n",
       "4  Virgin America   VirginAmerica and it s a really big bad thing..."
      ]
     },
     "execution_count": 11,
     "metadata": {},
     "output_type": "execute_result"
    }
   ],
   "source": [
    "tweets.head(5)"
   ]
  },
  {
   "cell_type": "code",
   "execution_count": 12,
   "metadata": {},
   "outputs": [
    {
     "name": "stdout",
     "output_type": "stream",
     "text": [
      "              airline                                               text\n",
      "0      Virgin America                 virginamerica what  dhepburn said \n",
      "1      Virgin America   virginamerica plus you ve added commercials t...\n",
      "2      Virgin America   virginamerica i didn t today    must mean i n...\n",
      "3      Virgin America   virginamerica it s really aggressive to blast...\n",
      "4      Virgin America   virginamerica and it s a really big bad thing...\n",
      "...               ...                                                ...\n",
      "14635        American   americanair thank you we got on a different f...\n",
      "14636        American   americanair leaving over  minutes late flight...\n",
      "14637        American   americanair please bring american airlines to...\n",
      "14638        American   americanair you have my money  you change my ...\n",
      "14639        American   americanair we have  ppl so we need  know how...\n",
      "\n",
      "[14640 rows x 2 columns]\n"
     ]
    }
   ],
   "source": [
    "#converting to lowercase\n",
    "tweets['text'] = df['text'].str.lower()\n",
    "print(tweets)"
   ]
  },
  {
   "cell_type": "code",
   "execution_count": 13,
   "metadata": {},
   "outputs": [
    {
     "data": {
      "text/plain": [
       "'text'"
      ]
     },
     "execution_count": 13,
     "metadata": {},
     "output_type": "execute_result"
    }
   ],
   "source": [
    "def simple_stemmer(text):\n",
    "    ps = nltk.porter.PorterStemmer()\n",
    "    text = ' '.join([ps.stem(word) for word in text.split()])\n",
    "    return text\n",
    "\n",
    "simple_stemmer(\"text\")"
   ]
  },
  {
   "cell_type": "code",
   "execution_count": 15,
   "metadata": {
    "scrolled": false
   },
   "outputs": [
    {
     "name": "stderr",
     "output_type": "stream",
     "text": [
      "[nltk_data] Downloading package wordnet to\n",
      "[nltk_data]     C:\\Users\\Dorris\\AppData\\Roaming\\nltk_data...\n",
      "[nltk_data]   Package wordnet is already up-to-date!\n"
     ]
    },
    {
     "name": "stdout",
     "output_type": "stream",
     "text": [
      "              airline                                               text\n",
      "0      Virgin America                 virginamerica what  dhepburn said \n",
      "1      Virgin America   virginamerica plus you ve added commercials t...\n",
      "2      Virgin America   virginamerica i didn t today    must mean i n...\n",
      "3      Virgin America   virginamerica it s really aggressive to blast...\n",
      "4      Virgin America   virginamerica and it s a really big bad thing...\n",
      "...               ...                                                ...\n",
      "14635        American   americanair thank you we got on a different f...\n",
      "14636        American   americanair leaving over  minutes late flight...\n",
      "14637        American   americanair please bring american airlines to...\n",
      "14638        American   americanair you have my money  you change my ...\n",
      "14639        American   americanair we have  ppl so we need  know how...\n",
      "\n",
      "[14640 rows x 2 columns]\n"
     ]
    }
   ],
   "source": [
    "#lemmatization\n",
    "from nltk.stem import WordNetLemmatizer\n",
    "nltk.download('wordnet')\n",
    "\n",
    "def lemmatize_text(text):\n",
    "    lemmatizer = WordNetLemmatizer()\n",
    "    return [lemmatizer.lemmatize(w) for w in tweets]\n",
    "\n",
    "tweets['text'].apply(lemmatize_text)\n",
    "print(tweets)"
   ]
  },
  {
   "cell_type": "code",
   "execution_count": 16,
   "metadata": {},
   "outputs": [],
   "source": [
    "tweets['text'] = tweets['text'].apply(lambda x: ''.join(x))"
   ]
  },
  {
   "cell_type": "code",
   "execution_count": 17,
   "metadata": {},
   "outputs": [
    {
     "data": {
      "text/html": [
       "<div>\n",
       "<style scoped>\n",
       "    .dataframe tbody tr th:only-of-type {\n",
       "        vertical-align: middle;\n",
       "    }\n",
       "\n",
       "    .dataframe tbody tr th {\n",
       "        vertical-align: top;\n",
       "    }\n",
       "\n",
       "    .dataframe thead th {\n",
       "        text-align: right;\n",
       "    }\n",
       "</style>\n",
       "<table border=\"1\" class=\"dataframe\">\n",
       "  <thead>\n",
       "    <tr style=\"text-align: right;\">\n",
       "      <th></th>\n",
       "      <th>airline</th>\n",
       "      <th>text</th>\n",
       "    </tr>\n",
       "  </thead>\n",
       "  <tbody>\n",
       "    <tr>\n",
       "      <th>0</th>\n",
       "      <td>Virgin America</td>\n",
       "      <td>virginamerica what  dhepburn said</td>\n",
       "    </tr>\n",
       "    <tr>\n",
       "      <th>1</th>\n",
       "      <td>Virgin America</td>\n",
       "      <td>virginamerica plus you ve added commercials t...</td>\n",
       "    </tr>\n",
       "    <tr>\n",
       "      <th>2</th>\n",
       "      <td>Virgin America</td>\n",
       "      <td>virginamerica i didn t today    must mean i n...</td>\n",
       "    </tr>\n",
       "    <tr>\n",
       "      <th>3</th>\n",
       "      <td>Virgin America</td>\n",
       "      <td>virginamerica it s really aggressive to blast...</td>\n",
       "    </tr>\n",
       "    <tr>\n",
       "      <th>4</th>\n",
       "      <td>Virgin America</td>\n",
       "      <td>virginamerica and it s a really big bad thing...</td>\n",
       "    </tr>\n",
       "  </tbody>\n",
       "</table>\n",
       "</div>"
      ],
      "text/plain": [
       "          airline                                               text\n",
       "0  Virgin America                 virginamerica what  dhepburn said \n",
       "1  Virgin America   virginamerica plus you ve added commercials t...\n",
       "2  Virgin America   virginamerica i didn t today    must mean i n...\n",
       "3  Virgin America   virginamerica it s really aggressive to blast...\n",
       "4  Virgin America   virginamerica and it s a really big bad thing..."
      ]
     },
     "execution_count": 17,
     "metadata": {},
     "output_type": "execute_result"
    }
   ],
   "source": [
    "tweets.head()"
   ]
  },
  {
   "cell_type": "code",
   "execution_count": 18,
   "metadata": {},
   "outputs": [],
   "source": [
    "from sklearn.feature_extraction.text import CountVectorizer\n",
    "from sklearn.feature_extraction.text import TfidfTransformer\n",
    "from lightgbm import LGBMClassifier\n",
    "from sklearn.pipeline import make_pipeline\n",
    "from warnings import filterwarnings\n",
    "from sklearn.preprocessing import Normalizer\n",
    "from sklearn.decomposition import TruncatedSVD\n",
    "from sklearn.model_selection import cross_validate\n",
    "from sklearn.pipeline import Pipeline"
   ]
  },
  {
   "cell_type": "code",
   "execution_count": 19,
   "metadata": {},
   "outputs": [
    {
     "name": "stderr",
     "output_type": "stream",
     "text": [
      "C:\\Users\\Dorris\\anaconda3\\lib\\site-packages\\sklearn\\utils\\validation.py:70: FutureWarning: Pass input=CountVectorizer(stop_words='english') as keyword args. From version 0.25 passing these as positional arguments will result in an error\n",
      "  FutureWarning)\n"
     ]
    }
   ],
   "source": [
    "twitter_sentiment = Pipeline([('CVec', CountVectorizer(CountVectorizer(stop_words='english'))),\n",
    "                     ('Tfidf', TfidfTransformer()),\n",
    "                      ('norm', Normalizer()),\n",
    "                    ('tSVD', TruncatedSVD(n_components=100)),\n",
    "                     ('lgb', LGBMClassifier(n_jobs=-1))])"
   ]
  },
  {
   "cell_type": "code",
   "execution_count": 20,
   "metadata": {},
   "outputs": [
    {
     "name": "stdout",
     "output_type": "stream",
     "text": [
      "Wall time: 41.7 s\n"
     ]
    }
   ],
   "source": [
    "%%time\n",
    "cv_pred = cross_validate(twitter_sentiment, \n",
    "                             tweets['text'], \n",
    "                             tweets['airline'], \n",
    "                             cv=5,\n",
    "                             scoring=('roc_auc_ovr'))"
   ]
  },
  {
   "cell_type": "code",
   "execution_count": 21,
   "metadata": {},
   "outputs": [
    {
     "data": {
      "text/plain": [
       "['fit_time', 'score_time', 'test_score']"
      ]
     },
     "execution_count": 21,
     "metadata": {},
     "output_type": "execute_result"
    }
   ],
   "source": [
    "sorted(cv_pred.keys())"
   ]
  },
  {
   "cell_type": "code",
   "execution_count": 22,
   "metadata": {},
   "outputs": [
    {
     "data": {
      "text/plain": [
       "array([0.99973666, 0.99971935, 0.99955616, 0.99980692, 0.99986504])"
      ]
     },
     "execution_count": 22,
     "metadata": {},
     "output_type": "execute_result"
    }
   ],
   "source": [
    "cv_pred['test_score']"
   ]
  },
  {
   "cell_type": "code",
   "execution_count": null,
   "metadata": {},
   "outputs": [],
   "source": [
    "#Summary\n",
    "#Text preprocessing and vectorization helps transform the tweets data into a more digestible form so that machine learning algorithms can perform better."
   ]
  }
 ],
 "metadata": {
  "kernelspec": {
   "display_name": "Python 3",
   "language": "python",
   "name": "python3"
  },
  "language_info": {
   "codemirror_mode": {
    "name": "ipython",
    "version": 3
   },
   "file_extension": ".py",
   "mimetype": "text/x-python",
   "name": "python",
   "nbconvert_exporter": "python",
   "pygments_lexer": "ipython3",
   "version": "3.7.6"
  }
 },
 "nbformat": 4,
 "nbformat_minor": 4
}
